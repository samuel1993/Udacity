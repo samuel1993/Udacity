{
 "cells": [
  {
   "cell_type": "markdown",
   "metadata": {},
   "source": [
    "# Data Science 2 - Udacity\n",
    "Samuel Leonardo Barboza Almeida\n",
    "\n",
    "### Links\n",
    "\n",
    "Primeira Versão:\n",
    "https://public.tableau.com/profile/samuel.leonardo.barboza.almeida#!/vizhome/FinalUdacity-Baseball_V1/DatasetBaseball-SamuelAlmeida?publish=yes\n",
    "\n",
    "Final:\n",
    "https://public.tableau.com/profile/samuel.leonardo.barboza.almeida#!/vizhome/FinalUdacity-Baseball/DatasetBaseball-SamuelAlmeida?publish=yes"
   ]
  },
  {
   "cell_type": "markdown",
   "metadata": {},
   "source": [
    "### Resumo\n",
    "\n",
    "O conjunto de dados contendo 1.157 jogadores de baseball, incluindo lateralidade dominate (destro, canhoto ou ambidestro), altura (em polegadas), peso (em libras), média de batidas e home runs."
   ]
  },
  {
   "cell_type": "markdown",
   "metadata": {},
   "source": [
    "### Design\n",
    "\n",
    "Optei por utilizar gráficos de barras, pizza e disperção. Na minha visão, estes são mais eficientes para visualizar. A único ponto que foi coletado na avaliação de outra pessoa foi a suavização da cor dos títulos dos gráficos."
   ]
  },
  {
   "cell_type": "markdown",
   "metadata": {},
   "source": [
    "### Feedback\n",
    "Precisei apenas de duas avaliações. O avaliador não teve dificuldades em interpretar minhas visualizações.\n",
    "O único ponto que salientado por ele foi o título dos gráficos que estavam em preto e não deixavam os campos de texto em evidência. Alterei e coloquei em cinza claro. Após isso, o avaliador considerou que o design estava bom."
   ]
  },
  {
   "cell_type": "markdown",
   "metadata": {},
   "source": [
    "### Recursos\n",
    "N/A"
   ]
  }
 ],
 "metadata": {
  "kernelspec": {
   "display_name": "Python 3",
   "language": "python",
   "name": "python3"
  },
  "language_info": {
   "codemirror_mode": {
    "name": "ipython",
    "version": 3
   },
   "file_extension": ".py",
   "mimetype": "text/x-python",
   "name": "python",
   "nbconvert_exporter": "python",
   "pygments_lexer": "ipython3",
   "version": "3.6.1"
  }
 },
 "nbformat": 4,
 "nbformat_minor": 2
}
